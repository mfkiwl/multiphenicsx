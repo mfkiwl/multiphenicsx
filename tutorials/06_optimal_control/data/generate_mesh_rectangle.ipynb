{
 "cells": [
  {
   "cell_type": "markdown",
   "metadata": {},
   "source": [
    "# Mesh generation for tutorial 06, case 1b\n",
    "\n",
    "This file generates the mesh which is used in the following examples:\n",
    "* 1b_poisson\n",
    "\n",
    "The test case is from section 5.1 of\n",
    "```\n",
    "F. Negri, G. Rozza, A. Manzoni and A. Quarteroni. Reduced Basis Method for Parametrized Elliptic Optimal Control Problems. SIAM Journal on Scientific Computing, 35(5): A2316-A2340, 2013.\n",
    "```"
   ]
  },
  {
   "cell_type": "code",
   "execution_count": null,
   "metadata": {},
   "outputs": [],
   "source": [
    "import gmsh\n",
    "from mpi4py import MPI\n",
    "from dolfinx.io import XDMFFile\n",
    "from multiphenicsx.mesh.utils import gmsh_to_fenicsx"
   ]
  },
  {
   "cell_type": "code",
   "execution_count": null,
   "metadata": {},
   "outputs": [],
   "source": [
    "assert MPI.COMM_WORLD.size == 1, \"This mesh generation notebook is supposed to be run in serial\""
   ]
  },
  {
   "cell_type": "markdown",
   "metadata": {},
   "source": [
    "### Geometrical parameters and related quantities"
   ]
  },
  {
   "cell_type": "code",
   "execution_count": null,
   "metadata": {},
   "outputs": [],
   "source": [
    "L1 = 1.0\n",
    "L2 = 3.0\n",
    "H = 1.0\n",
    "lcar = 0.05"
   ]
  },
  {
   "cell_type": "markdown",
   "metadata": {},
   "source": [
    "### Create mesh with gmsh"
   ]
  },
  {
   "cell_type": "code",
   "execution_count": null,
   "metadata": {},
   "outputs": [],
   "source": [
    "gmsh.initialize()\n",
    "gmsh.model.add(\"mesh\")\n",
    "p0 = gmsh.model.geo.addPoint(0.0, 0.0, 0.0, lcar)\n",
    "p1 = gmsh.model.geo.addPoint(L1, 0.0, 0.0, lcar)\n",
    "p2 = gmsh.model.geo.addPoint(L1 + L2, 0.0, 0.0, lcar)\n",
    "p3 = gmsh.model.geo.addPoint(L1 + L2, H, 0.0, lcar)\n",
    "p4 = gmsh.model.geo.addPoint(L1, H, 0.0, lcar)\n",
    "p5 = gmsh.model.geo.addPoint(0.0, H, 0.0, lcar)\n",
    "l0 = gmsh.model.geo.addLine(p0, p1)\n",
    "l1 = gmsh.model.geo.addLine(p1, p4)\n",
    "l2 = gmsh.model.geo.addLine(p4, p5)\n",
    "l3 = gmsh.model.geo.addLine(p5, p0)\n",
    "l4 = gmsh.model.geo.addLine(p1, p2)\n",
    "l5 = gmsh.model.geo.addLine(p2, p3)\n",
    "l6 = gmsh.model.geo.addLine(p3, p4)\n",
    "line_loop_rectangle_left = gmsh.model.geo.addCurveLoop([l0, l1, l2, l3])\n",
    "line_loop_rectangle_right = gmsh.model.geo.addCurveLoop([l4, l5, l6, -l1])\n",
    "rectangle_left = gmsh.model.geo.addPlaneSurface([line_loop_rectangle_left])\n",
    "rectangle_right = gmsh.model.geo.addPlaneSurface([line_loop_rectangle_right])\n",
    "gmsh.model.geo.synchronize()\n",
    "gmsh.model.addPhysicalGroup(1, [l0, l4, l5, l6, l2, l3], 1)\n",
    "gmsh.model.addPhysicalGroup(2, [rectangle_left], 1)\n",
    "gmsh.model.addPhysicalGroup(2, [rectangle_right], 2)\n",
    "gmsh.model.mesh.generate(2)"
   ]
  },
  {
   "cell_type": "markdown",
   "metadata": {},
   "source": [
    "### Convert to a dolfinx mesh"
   ]
  },
  {
   "cell_type": "code",
   "execution_count": null,
   "metadata": {},
   "outputs": [],
   "source": [
    "mesh, subdomains, boundaries = gmsh_to_fenicsx(gmsh.model, gdim=2)\n",
    "gmsh.finalize()"
   ]
  },
  {
   "cell_type": "markdown",
   "metadata": {},
   "source": [
    "### Save mesh, subdomains and boundaries"
   ]
  },
  {
   "cell_type": "code",
   "execution_count": null,
   "metadata": {},
   "outputs": [],
   "source": [
    "with XDMFFile(MPI.COMM_WORLD, \"rectangle.xdmf\", \"w\") as file:\n",
    "    file.write_mesh(mesh)\n",
    "    file.write_meshtags(subdomains)\n",
    "    mesh.topology.create_connectivity(mesh.topology.dim - 1, mesh.topology.dim)\n",
    "    file.write_meshtags(boundaries)"
   ]
  }
 ],
 "metadata": {
  "kernelspec": {
   "display_name": "Python 3",
   "language": "python",
   "name": "python3"
  },
  "language_info": {
   "codemirror_mode": {
    "name": "ipython"
   },
   "file_extension": ".py",
   "mimetype": "text/x-python",
   "name": "python",
   "nbconvert_exporter": "python"
  }
 },
 "nbformat": 4,
 "nbformat_minor": 2
}
