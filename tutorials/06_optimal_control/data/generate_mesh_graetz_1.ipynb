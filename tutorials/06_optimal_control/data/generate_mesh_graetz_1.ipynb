{
 "cells": [
  {
   "cell_type": "markdown",
   "metadata": {},
   "source": [
    "# Mesh generation for tutorial 06, case 2b\n",
    "\n",
    "This file generates the mesh which is used in the following examples:\n",
    "* 2b_advection_diffusion_reaction\n",
    "\n",
    "The test case is from section 5.2 of\n",
    "```\n",
    "F. Negri, G. Rozza, A. Manzoni and A. Quarteroni. Reduced Basis Method for Parametrized Elliptic Optimal Control Problems. SIAM Journal on Scientific Computing, 35(5): A2316-A2340, 2013.\n",
    "```"
   ]
  },
  {
   "cell_type": "code",
   "execution_count": null,
   "metadata": {},
   "outputs": [],
   "source": [
    "import typing"
   ]
  },
  {
   "cell_type": "code",
   "execution_count": null,
   "metadata": {},
   "outputs": [],
   "source": [
    "import dolfinx.io\n",
    "import gmsh\n",
    "import mpi4py"
   ]
  },
  {
   "cell_type": "code",
   "execution_count": null,
   "metadata": {},
   "outputs": [],
   "source": [
    "import multiphenicsx.io\n",
    "import multiphenicsx.mesh"
   ]
  },
  {
   "cell_type": "markdown",
   "metadata": {},
   "source": [
    "### Geometrical parameters and related quantities"
   ]
  },
  {
   "cell_type": "code",
   "execution_count": null,
   "metadata": {},
   "outputs": [],
   "source": [
    "lcar = 0.05"
   ]
  },
  {
   "cell_type": "markdown",
   "metadata": {},
   "source": [
    "### Create mesh with gmsh"
   ]
  },
  {
   "cell_type": "code",
   "execution_count": null,
   "metadata": {},
   "outputs": [],
   "source": [
    "class GenerateRectangleLines(object):\n",
    "    \"\"\"Generate a rectangle.\"\"\"\n",
    "\n",
    "    def __init__(self) -> None:\n",
    "        self.points = dict()\n",
    "        self.lines = dict()\n",
    "\n",
    "    def add_point(self, x: float, y: float) -> int:\n",
    "        \"\"\"Add a point to gmsh, if not present already.\"\"\"\n",
    "        key = (x, y)\n",
    "        try:\n",
    "            return self.points[key]\n",
    "        except KeyError:\n",
    "            p = gmsh.model.geo.addPoint(x, y, 0.0, lcar)\n",
    "            self.points[key] = p\n",
    "            return p\n",
    "\n",
    "    def add_line(self, p0: int, p1: int) -> int:\n",
    "        \"\"\"Add a line to gmsh, if not present already.\"\"\"\n",
    "        try:\n",
    "            return self.lines[(p0, p1)]\n",
    "        except KeyError:\n",
    "            l01 = gmsh.model.geo.addLine(p0, p1)\n",
    "            self.lines[(p0, p1)] = l01\n",
    "            self.lines[(p1, p0)] = -l01\n",
    "            return l01\n",
    "\n",
    "    def __call__(\n",
    "        self, x_min: float, x_max: float, y_min: float, y_max: typing.Union[float, typing.List[float]]\n",
    "    ) -> typing.Tuple[int]:\n",
    "        \"\"\"Add points and lines that define a rectangle with the provided coordinates.\"\"\"\n",
    "        p0 = self.add_point(x_min, y_min)\n",
    "        p1 = self.add_point(x_max, y_min)\n",
    "        if isinstance(y_max, list):\n",
    "            p2 = [self.add_point(x_max, y) for y in y_max]\n",
    "            p3 = self.add_point(x_min, y_max[-1])\n",
    "        else:\n",
    "            p2 = self.add_point(x_max, y_max)\n",
    "            p3 = self.add_point(x_min, y_max)\n",
    "        l0 = self.add_line(p0, p1)\n",
    "        if isinstance(y_max, list):\n",
    "            p1_p2 = [p1] + p2\n",
    "            l1 = [self.add_line(p1_p2[i], p1_p2[i + 1]) for i in range(len(p2))]\n",
    "            l2 = self.add_line(p2[-1], p3)\n",
    "        else:\n",
    "            l1 = self.add_line(p1, p2)\n",
    "            l2 = self.add_line(p2, p3)\n",
    "        l3 = self.add_line(p3, p0)\n",
    "        return (l0, l1, l2, l3)\n",
    "\n",
    "\n",
    "gmsh.initialize()\n",
    "gmsh.model.add(\"mesh\")\n",
    "generate_rectangle_lines = GenerateRectangleLines()\n",
    "[l0, l1, l2, l3] = generate_rectangle_lines(0.0, 1.0, 0.0, 1.0)\n",
    "[l4, l5, l6, _] = generate_rectangle_lines(1.0, 2.5, 0.0, [0.3, 0.7, 1.0])\n",
    "[l7, l8, l9, l10] = generate_rectangle_lines(0.2, 0.8, 0.3, 0.7)\n",
    "[l11, l12, l13, l14] = generate_rectangle_lines(1.2, 2.5, 0.3, 0.7)\n",
    "line_loop_rectangle_outer_left = gmsh.model.geo.addCurveLoop([l0, l1, l2, l3])\n",
    "line_loop_rectangle_outer_right = gmsh.model.geo.addCurveLoop([l4, l5[0], l5[1], l5[2], l6, -l1])\n",
    "line_loop_rectangle_inner_left = gmsh.model.geo.addCurveLoop([l7, l8, l9, l10])\n",
    "line_loop_rectangle_inner_right = gmsh.model.geo.addCurveLoop([l11, l12, l13, l14])\n",
    "rectangle_outer_left = gmsh.model.geo.addPlaneSurface(\n",
    "    [line_loop_rectangle_outer_left, line_loop_rectangle_inner_left])\n",
    "rectangle_outer_right = gmsh.model.geo.addPlaneSurface(\n",
    "    [line_loop_rectangle_outer_right, line_loop_rectangle_inner_right])\n",
    "rectangle_inner_left = gmsh.model.geo.addPlaneSurface([line_loop_rectangle_inner_left])\n",
    "rectangle_inner_right = gmsh.model.geo.addPlaneSurface([line_loop_rectangle_inner_right])\n",
    "gmsh.model.geo.synchronize()\n",
    "gmsh.model.addPhysicalGroup(1, [l0, l2, l3], 1)\n",
    "gmsh.model.addPhysicalGroup(1, [l4, l6], 2)\n",
    "gmsh.model.addPhysicalGroup(1, [l5[0], l5[1], l5[2]], 3)\n",
    "gmsh.model.addPhysicalGroup(2, [rectangle_outer_left], 3)\n",
    "gmsh.model.addPhysicalGroup(2, [rectangle_outer_right], 4)\n",
    "gmsh.model.addPhysicalGroup(2, [rectangle_inner_left], 1)\n",
    "gmsh.model.addPhysicalGroup(2, [rectangle_inner_right], 2)\n",
    "gmsh.model.mesh.generate(2)"
   ]
  },
  {
   "cell_type": "markdown",
   "metadata": {},
   "source": [
    "### Convert to a dolfinx mesh"
   ]
  },
  {
   "cell_type": "code",
   "execution_count": null,
   "metadata": {},
   "outputs": [],
   "source": [
    "mesh, subdomains, boundaries = multiphenicsx.mesh.gmsh_to_fenicsx(gmsh.model, gdim=2)\n",
    "gmsh.finalize()"
   ]
  },
  {
   "cell_type": "code",
   "execution_count": null,
   "metadata": {},
   "outputs": [],
   "source": [
    "multiphenicsx.io.plot_mesh(mesh)"
   ]
  },
  {
   "cell_type": "code",
   "execution_count": null,
   "metadata": {},
   "outputs": [],
   "source": [
    "multiphenicsx.io.plot_mesh_tags(subdomains)"
   ]
  },
  {
   "cell_type": "code",
   "execution_count": null,
   "metadata": {},
   "outputs": [],
   "source": [
    "multiphenicsx.io.plot_mesh_tags(boundaries)"
   ]
  },
  {
   "cell_type": "markdown",
   "metadata": {},
   "source": [
    "### Save mesh, subdomains and boundaries"
   ]
  },
  {
   "cell_type": "code",
   "execution_count": null,
   "metadata": {},
   "outputs": [],
   "source": [
    "with dolfinx.io.XDMFFile(mpi4py.MPI.COMM_WORLD, \"graetz_1.xdmf\", \"w\") as file:\n",
    "    file.write_mesh(mesh)\n",
    "    file.write_meshtags(subdomains)\n",
    "    mesh.topology.create_connectivity(mesh.topology.dim - 1, mesh.topology.dim)\n",
    "    file.write_meshtags(boundaries)"
   ]
  }
 ],
 "metadata": {
  "kernelspec": {
   "display_name": "Python 3 (ipykernel)",
   "language": "python",
   "name": "python3"
  },
  "language_info": {
   "codemirror_mode": {
    "name": "ipython"
   },
   "file_extension": ".py",
   "mimetype": "text/x-python",
   "name": "python",
   "nbconvert_exporter": "python"
  }
 },
 "nbformat": 4,
 "nbformat_minor": 2
}
