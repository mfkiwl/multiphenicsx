{
 "cells": [
  {
   "cell_type": "markdown",
   "metadata": {},
   "source": [
    "# Tutorial 06, case 7a: Stokes problem with Neumann control\n",
    "\n",
    "In this tutorial we solve the optimal control problem\n",
    "\n",
    "$$\\min J(y, u) = \\frac{1}{2} \\int_{\\Omega_{obs}} |\\text{curl} v|^2 dx + \\frac{\\alpha}{2} \\int_{\\Gamma_C} |\\nabla_{\\mathbf{t}} u|^2 ds$$\n",
    "s.t.\n",
    "$$\\begin{cases}\n",
    "- \\nu \\Delta v + \\nabla p = f                 & \\text{in } \\Omega\\\\\n",
    "                       \\text{div} v = 0       & \\text{in } \\Omega\\\\\n",
    "                                  v = g       & \\text{on } \\Gamma_{in}\\\\\n",
    "                                  v = 0       & \\text{on } \\Gamma_{w}\\\\\n",
    "                 v \\cdot \\mathbf{n} = u       & \\text{on } \\Gamma_{C}\\\\\n",
    "                 v \\cdot \\mathbf{t} = 0       & \\text{on } \\Gamma_{C}\\\\\n",
    "                 v \\cdot \\mathbf{n} = 0       & \\text{on } \\Gamma_{s}\\\\\n",
    "  \\nu \\partial_n v \\cdot \\mathbf{t} = 0       & \\text{on } \\Gamma_{s}\\\\\n",
    "             p n - \\nu \\partial_n v = 0       & \\text{on } \\Gamma_{N}\n",
    "\\end{cases}$$\n",
    "\n",
    "where\n",
    "$$\\begin{align*}\n",
    "& \\Omega                      & \\text{unit square}\\\\\n",
    "& \\Gamma_{in}                 & \\text{has boundary id 1}\\\\\n",
    "& \\Gamma_{s}                  & \\text{has boundary id 2}\\\\\n",
    "& \\Gamma_{N}                  & \\text{has boundary id 3}\\\\\n",
    "& \\Gamma_{C}                  & \\text{has boundary id 4}\\\\\n",
    "& \\Gamma_{w}                  & \\text{has boundary id 5}\\\\\n",
    "& u \\in [L^2(\\Gamma_C)]^2     & \\text{control variable}\\\\\n",
    "& v \\in [H^1(\\Omega)]^2       & \\text{state velocity variable}\\\\\n",
    "& p \\in L^2(\\Omega)           & \\text{state pressure variable}\\\\\n",
    "& \\alpha > 0                  & \\text{penalization parameter}\\\\\n",
    "& v_d                         & \\text{desired state}\\\\\n",
    "& f                           & \\text{forcing term}\\\\\n",
    "& g                           & \\text{inlet profile}\\\\\n",
    "\\end{align*}$$\n",
    "using an adjoint formulation solved by a one shot approach.\n",
    "\n",
    "The test case is from section 5 of\n",
    "```\n",
    "F. Negri, A. Manzoni and G. Rozza. Reduced basis approximation of parametrized optimal flow control problems for the Stokes equations. Computer and Mathematics with Applications, 69(4):319-336, 2015.\n",
    "```"
   ]
  },
  {
   "cell_type": "code",
   "execution_count": null,
   "metadata": {},
   "outputs": [],
   "source": [
    "import dolfinx.fem\n",
    "import dolfinx.io\n",
    "import dolfinx.mesh\n",
    "import mpi4py\n",
    "import numpy as np\n",
    "import numpy.typing as npt\n",
    "import petsc4py\n",
    "import ufl"
   ]
  },
  {
   "cell_type": "code",
   "execution_count": null,
   "metadata": {},
   "outputs": [],
   "source": [
    "import multiphenicsx.fem\n",
    "import multiphenicsx.io"
   ]
  },
  {
   "cell_type": "markdown",
   "metadata": {},
   "source": [
    "### Mesh"
   ]
  },
  {
   "cell_type": "code",
   "execution_count": null,
   "metadata": {},
   "outputs": [],
   "source": [
    "with dolfinx.io.XDMFFile(mpi4py.MPI.COMM_WORLD, \"data/vorticity_reduction.xdmf\", \"r\") as infile:\n",
    "    mesh = infile.read_mesh()\n",
    "    subdomains = infile.read_meshtags(mesh, name=\"subdomains\")\n",
    "    mesh.topology.create_connectivity(mesh.topology.dim - 1, mesh.topology.dim)\n",
    "    boundaries = infile.read_meshtags(mesh, name=\"boundaries\")"
   ]
  },
  {
   "cell_type": "code",
   "execution_count": null,
   "metadata": {},
   "outputs": [],
   "source": [
    "# Define associated measures\n",
    "dx = ufl.Measure(\"dx\")(subdomain_data=subdomains)\n",
    "ds = ufl.Measure(\"ds\")(subdomain_data=boundaries)"
   ]
  },
  {
   "cell_type": "code",
   "execution_count": null,
   "metadata": {},
   "outputs": [],
   "source": [
    "# Normal and tangent\n",
    "n = ufl.FacetNormal(mesh)\n",
    "t = ufl.as_vector([n[1], -n[0]])"
   ]
  },
  {
   "cell_type": "code",
   "execution_count": null,
   "metadata": {},
   "outputs": [],
   "source": [
    "multiphenicsx.io.plot_mesh(mesh)"
   ]
  },
  {
   "cell_type": "code",
   "execution_count": null,
   "metadata": {},
   "outputs": [],
   "source": [
    "multiphenicsx.io.plot_mesh_tags(subdomains)"
   ]
  },
  {
   "cell_type": "code",
   "execution_count": null,
   "metadata": {},
   "outputs": [],
   "source": [
    "multiphenicsx.io.plot_mesh_tags(boundaries)"
   ]
  },
  {
   "cell_type": "markdown",
   "metadata": {},
   "source": [
    "### Function spaces"
   ]
  },
  {
   "cell_type": "code",
   "execution_count": null,
   "metadata": {},
   "outputs": [],
   "source": [
    "Y_velocity = dolfinx.fem.VectorFunctionSpace(mesh, (\"Lagrange\", 2))\n",
    "Y_pressure = dolfinx.fem.FunctionSpace(mesh, (\"Lagrange\", 1))\n",
    "U = dolfinx.fem.FunctionSpace(mesh, (\"Lagrange\", 2))\n",
    "L = U.clone()\n",
    "Q_velocity = Y_velocity.clone()\n",
    "Q_pressure = Y_pressure.clone()"
   ]
  },
  {
   "cell_type": "markdown",
   "metadata": {},
   "source": [
    "### Restrictions"
   ]
  },
  {
   "cell_type": "code",
   "execution_count": null,
   "metadata": {},
   "outputs": [],
   "source": [
    "dofs_Y_velocity = np.arange(0, Y_velocity.dofmap.index_map.size_local + Y_velocity.dofmap.index_map.num_ghosts)\n",
    "dofs_Y_pressure = np.arange(0, Y_pressure.dofmap.index_map.size_local + Y_pressure.dofmap.index_map.num_ghosts)\n",
    "dofs_U = dolfinx.fem.locate_dofs_topological(U, boundaries.dim, boundaries.indices[boundaries.values == 4])\n",
    "dofs_L = dofs_U\n",
    "dofs_Q_velocity = dofs_Y_velocity\n",
    "dofs_Q_pressure = dofs_Y_pressure\n",
    "restriction_Y_velocity = multiphenicsx.fem.DofMapRestriction(Y_velocity.dofmap, dofs_Y_velocity)\n",
    "restriction_Y_pressure = multiphenicsx.fem.DofMapRestriction(Y_pressure.dofmap, dofs_Y_pressure)\n",
    "restriction_U = multiphenicsx.fem.DofMapRestriction(U.dofmap, dofs_U)\n",
    "restriction_L = multiphenicsx.fem.DofMapRestriction(L.dofmap, dofs_L)\n",
    "restriction_Q_velocity = multiphenicsx.fem.DofMapRestriction(Q_velocity.dofmap, dofs_Q_velocity)\n",
    "restriction_Q_pressure = multiphenicsx.fem.DofMapRestriction(Q_pressure.dofmap, dofs_Q_pressure)\n",
    "restriction = [\n",
    "    restriction_Y_velocity, restriction_Y_pressure, restriction_U, restriction_L,\n",
    "    restriction_Q_velocity, restriction_Q_pressure]"
   ]
  },
  {
   "cell_type": "markdown",
   "metadata": {},
   "source": [
    "### Trial and test functions"
   ]
  },
  {
   "cell_type": "code",
   "execution_count": null,
   "metadata": {},
   "outputs": [],
   "source": [
    "(v, p) = (ufl.TrialFunction(Y_velocity), ufl.TrialFunction(Y_pressure))\n",
    "(w, q) = (ufl.TestFunction(Y_velocity), ufl.TestFunction(Y_pressure))\n",
    "(u, l) = (ufl.TrialFunction(U), ufl.TrialFunction(L))\n",
    "(r, m) = (ufl.TestFunction(U), ufl.TestFunction(L))\n",
    "(z, b) = (ufl.TrialFunction(Q_velocity), ufl.TrialFunction(Q_pressure))\n",
    "(s, d) = (ufl.TestFunction(Q_velocity), ufl.TestFunction(Q_pressure))"
   ]
  },
  {
   "cell_type": "markdown",
   "metadata": {},
   "source": [
    " ### Problem data"
   ]
  },
  {
   "cell_type": "code",
   "execution_count": null,
   "metadata": {},
   "outputs": [],
   "source": [
    "def non_zero_eval(x: npt.NDArray[np.float64]) -> npt.NDArray[petsc4py.PETSc.ScalarType]:\n",
    "    \"\"\"Return the flat velocity profile at the inlet.\"\"\"\n",
    "    values = np.zeros((2, x.shape[1]))\n",
    "    values[0, :] = 2.5\n",
    "    return values\n",
    "\n",
    "\n",
    "nu = 1.\n",
    "alpha = 1.e-2\n",
    "ff = dolfinx.fem.Constant(mesh, tuple(petsc4py.PETSc.ScalarType(0) for _ in range(2)))\n",
    "bc0 = dolfinx.fem.Function(Y_velocity)\n",
    "bc0_component = dolfinx.fem.Function(Y_velocity.sub(0).collapse())\n",
    "bc1 = dolfinx.fem.Function(Y_velocity)\n",
    "bc1.interpolate(non_zero_eval)"
   ]
  },
  {
   "cell_type": "markdown",
   "metadata": {},
   "source": [
    "### Optimality conditions"
   ]
  },
  {
   "cell_type": "code",
   "execution_count": null,
   "metadata": {},
   "outputs": [],
   "source": [
    "def vorticity(v: ufl.Argument, w: ufl.Argument) -> ufl.core.expr.Expr:\n",
    "    \"\"\"Return the UFL expression corresponding to the inner(curl, curl) operator.\"\"\"\n",
    "    return ufl.inner(ufl.curl(v), ufl.curl(w))\n",
    "\n",
    "\n",
    "def penalty(u: ufl.Argument, r: ufl.Argument) -> ufl.core.expr.Expr:\n",
    "    \"\"\"Return the UFL expression corresponding to the penalty term.\"\"\"\n",
    "    return alpha * ufl.inner(ufl.dot(ufl.grad(u), t), ufl.dot(ufl.grad(r), t))\n",
    "\n",
    "\n",
    "a = [[vorticity(v, w) * dx(4), None, None, ufl.inner(l, ufl.dot(w, n)) * ds(4),\n",
    "      nu * ufl.inner(ufl.grad(z), ufl.grad(w)) * dx, - ufl.inner(b, ufl.div(w)) * dx],\n",
    "     [None, None, None, None, - ufl.inner(ufl.div(z), q) * dx, None],\n",
    "     [None, None, penalty(u, r) * ds(4), - ufl.inner(l, r) * ds(4), None, None],\n",
    "     [ufl.inner(ufl.dot(v, n), m) * ds(4), None, - ufl.inner(u, m) * ds(4), None, None, None],\n",
    "     [nu * ufl.inner(ufl.grad(v), ufl.grad(s)) * dx, - ufl.inner(p, ufl.div(s)) * dx, None, None, None, None],\n",
    "     [- ufl.inner(ufl.div(v), d) * dx, None, None, None, None, None]]\n",
    "f = [None,\n",
    "     None,\n",
    "     None,\n",
    "     None,\n",
    "     ufl.inner(ff, s) * dx,\n",
    "     None]\n",
    "a[0][0] += dolfinx.fem.Constant(mesh, petsc4py.PETSc.ScalarType(0)) * ufl.inner(v, w) * dx\n",
    "a[4][4] = dolfinx.fem.Constant(mesh, petsc4py.PETSc.ScalarType(0)) * ufl.inner(z, s) * dx\n",
    "f[0] = ufl.inner(dolfinx.fem.Constant(mesh, tuple(petsc4py.PETSc.ScalarType(0) for _ in range(2))), w) * dx\n",
    "f[1] = ufl.inner(dolfinx.fem.Constant(mesh, petsc4py.PETSc.ScalarType(0)), q) * dx\n",
    "f[2] = ufl.inner(dolfinx.fem.Constant(mesh, petsc4py.PETSc.ScalarType(0)), r) * dx\n",
    "f[3] = ufl.inner(dolfinx.fem.Constant(mesh, petsc4py.PETSc.ScalarType(0)), m) * dx\n",
    "f[5] = ufl.inner(dolfinx.fem.Constant(mesh, petsc4py.PETSc.ScalarType(0)), d) * dx\n",
    "\n",
    "\n",
    "def bdofs(\n",
    "    space_from: dolfinx.fem.FunctionSpace, space_to: dolfinx.fem.FunctionSpace, idx: np.int32\n",
    ") -> npt.NDArray[np.int32]:\n",
    "    \"\"\"Locate DOFs on the boundary `idx`.\"\"\"\n",
    "    return dolfinx.fem.locate_dofs_topological(\n",
    "        (space_from, space_to), mesh.topology.dim - 1, boundaries.indices[boundaries.values == idx])\n",
    "\n",
    "\n",
    "bc = [\n",
    "    dolfinx.fem.DirichletBC(\n",
    "        bc1, bdofs(Y_velocity, bc1.function_space, 1), Y_velocity),\n",
    "    dolfinx.fem.DirichletBC(\n",
    "        bc0_component, bdofs(Y_velocity.sub(1), bc0_component.function_space, 2), Y_velocity.sub(1)),\n",
    "    dolfinx.fem.DirichletBC(\n",
    "        bc0_component, bdofs(Y_velocity.sub(0), bc0_component.function_space, 4), Y_velocity.sub(0)),\n",
    "    dolfinx.fem.DirichletBC(\n",
    "        bc0, bdofs(Y_velocity, bc0.function_space, 5), Y_velocity),\n",
    "    dolfinx.fem.DirichletBC(\n",
    "        bc0, bdofs(Q_velocity, bc0.function_space, 1), Q_velocity),\n",
    "    dolfinx.fem.DirichletBC(\n",
    "        bc0_component, bdofs(Q_velocity.sub(1), bc0_component.function_space, 2), Q_velocity.sub(1)),\n",
    "    dolfinx.fem.DirichletBC(\n",
    "        bc0, bdofs(Q_velocity, bc0.function_space, 4), Q_velocity),\n",
    "    dolfinx.fem.DirichletBC(\n",
    "        bc0, bdofs(Q_velocity, bc0.function_space, 5), Q_velocity)\n",
    "]"
   ]
  },
  {
   "cell_type": "markdown",
   "metadata": {},
   "source": [
    "### Solution"
   ]
  },
  {
   "cell_type": "code",
   "execution_count": null,
   "metadata": {},
   "outputs": [],
   "source": [
    "(v, p) = (dolfinx.fem.Function(Y_velocity), dolfinx.fem.Function(Y_pressure))\n",
    "(u, l) = (dolfinx.fem.Function(U), dolfinx.fem.Function(L))\n",
    "(z, b) = (dolfinx.fem.Function(Q_velocity), dolfinx.fem.Function(Q_pressure))"
   ]
  },
  {
   "cell_type": "markdown",
   "metadata": {},
   "source": [
    "### Cost functional"
   ]
  },
  {
   "cell_type": "code",
   "execution_count": null,
   "metadata": {},
   "outputs": [],
   "source": [
    "J = 0.5 * vorticity(v, v) * dx(4) + 0.5 * penalty(u, u) * ds(4)"
   ]
  },
  {
   "cell_type": "markdown",
   "metadata": {},
   "source": [
    "### Uncontrolled functional value"
   ]
  },
  {
   "cell_type": "code",
   "execution_count": null,
   "metadata": {},
   "outputs": [],
   "source": [
    "# Extract state forms from the optimality conditions\n",
    "a_state = [[ufl.replace(a[i][j], {s: w, d: q}) if a[i][j] is not None else None for j in (0, 1)] for i in (4, 5)]\n",
    "f_state = [ufl.replace(f[i], {s: w, d: q}) for i in (4, 5)]\n",
    "bc_state = [\n",
    "    dolfinx.fem.DirichletBC(\n",
    "        bc1, bdofs(Y_velocity, bc1.function_space, 1), Y_velocity),\n",
    "    dolfinx.fem.DirichletBC(\n",
    "        bc0_component, bdofs(Y_velocity.sub(1), bc0_component.function_space, 2), Y_velocity.sub(1)),\n",
    "    dolfinx.fem.DirichletBC(\n",
    "        bc0, bdofs(Y_velocity, bc0.function_space, 4), Y_velocity),\n",
    "    dolfinx.fem.DirichletBC(\n",
    "        bc0, bdofs(Y_velocity, bc0.function_space, 5), Y_velocity)\n",
    "]"
   ]
  },
  {
   "cell_type": "code",
   "execution_count": null,
   "metadata": {},
   "outputs": [],
   "source": [
    "# Assemble the block linear system for the state\n",
    "A_state = multiphenicsx.fem.assemble_matrix_block(\n",
    "    a_state, bcs=bc_state, restriction=([restriction[i] for i in (4, 5)], [restriction[j] for j in (0, 1)]))\n",
    "A_state.assemble()\n",
    "F_state = multiphenicsx.fem.assemble_vector_block(\n",
    "    f_state, a_state, bcs=bc_state, restriction=[restriction[i] for i in (4, 5)])"
   ]
  },
  {
   "cell_type": "code",
   "execution_count": null,
   "metadata": {},
   "outputs": [],
   "source": [
    "# Solve\n",
    "vp = multiphenicsx.fem.create_vector_block([f[j] for j in (0, 1)], restriction=[restriction[j] for j in (0, 1)])\n",
    "ksp = petsc4py.PETSc.KSP()\n",
    "ksp.create(mesh.comm)\n",
    "ksp.setOperators(A_state)\n",
    "ksp.setType(\"preonly\")\n",
    "ksp.getPC().setType(\"lu\")\n",
    "ksp.getPC().setFactorSolverType(\"mumps\")\n",
    "ksp.setFromOptions()\n",
    "ksp.solve(F_state, vp)\n",
    "vp.ghostUpdate(addv=petsc4py.PETSc.InsertMode.INSERT, mode=petsc4py.PETSc.ScatterMode.FORWARD)"
   ]
  },
  {
   "cell_type": "code",
   "execution_count": null,
   "metadata": {},
   "outputs": [],
   "source": [
    "# Split the block solution in components\n",
    "with multiphenicsx.fem.BlockVecSubVectorWrapper(vp, [c.function_space.dofmap for c in (v, p)]) as vp_wrapper:\n",
    "    for vp_wrapper_local, component in zip(vp_wrapper, (v, p)):\n",
    "        with component.vector.localForm() as component_local:\n",
    "            component_local[:] = vp_wrapper_local"
   ]
  },
  {
   "cell_type": "code",
   "execution_count": null,
   "metadata": {},
   "outputs": [],
   "source": [
    "J_uncontrolled = mesh.comm.allreduce(dolfinx.fem.assemble_scalar(J), op=mpi4py.MPI.SUM)\n",
    "print(\"Uncontrolled J =\", J_uncontrolled)\n",
    "assert np.isclose(J_uncontrolled, 2.9238625)"
   ]
  },
  {
   "cell_type": "code",
   "execution_count": null,
   "metadata": {},
   "outputs": [],
   "source": [
    "multiphenicsx.io.plot_vector_field(v, \"uncontrolled state velocity\", glyph_factor=3e-2)"
   ]
  },
  {
   "cell_type": "code",
   "execution_count": null,
   "metadata": {},
   "outputs": [],
   "source": [
    "multiphenicsx.io.plot_scalar_field(p, \"uncontrolled state pressure\")"
   ]
  },
  {
   "cell_type": "markdown",
   "metadata": {},
   "source": [
    "### Optimal control"
   ]
  },
  {
   "cell_type": "code",
   "execution_count": null,
   "metadata": {},
   "outputs": [],
   "source": [
    "# Assemble the block linear system for the optimality conditions\n",
    "A = multiphenicsx.fem.assemble_matrix_block(a, bcs=bc, restriction=(restriction, restriction))\n",
    "A.assemble()\n",
    "F = multiphenicsx.fem.assemble_vector_block(f, a, bcs=bc, restriction=restriction)"
   ]
  },
  {
   "cell_type": "code",
   "execution_count": null,
   "metadata": {},
   "outputs": [],
   "source": [
    "# Solve\n",
    "vpulzb = multiphenicsx.fem.create_vector_block(f, restriction=restriction)\n",
    "ksp = petsc4py.PETSc.KSP()\n",
    "ksp.create(mesh.comm)\n",
    "ksp.setOperators(A)\n",
    "ksp.setType(\"preonly\")\n",
    "ksp.getPC().setType(\"lu\")\n",
    "ksp.getPC().setFactorSolverType(\"mumps\")\n",
    "ksp.setFromOptions()\n",
    "ksp.solve(F, vpulzb)\n",
    "vpulzb.ghostUpdate(addv=petsc4py.PETSc.InsertMode.INSERT, mode=petsc4py.PETSc.ScatterMode.FORWARD)"
   ]
  },
  {
   "cell_type": "code",
   "execution_count": null,
   "metadata": {},
   "outputs": [],
   "source": [
    "# Split the block solution in components\n",
    "with multiphenicsx.fem.BlockVecSubVectorWrapper(\n",
    "        vpulzb, [c.function_space.dofmap for c in (v, p, u, l, z, b)], restriction) as vpulzb_wrapper:\n",
    "    for vpulzb_wrapper_local, component in zip(vpulzb_wrapper, (v, p, u, l, z, b)):\n",
    "        with component.vector.localForm() as component_local:\n",
    "            component_local[:] = vpulzb_wrapper_local"
   ]
  },
  {
   "cell_type": "code",
   "execution_count": null,
   "metadata": {},
   "outputs": [],
   "source": [
    "J_controlled = mesh.comm.allreduce(dolfinx.fem.assemble_scalar(J), op=mpi4py.MPI.SUM)\n",
    "print(\"Optimal J =\", J_controlled)\n",
    "assert np.isclose(J_controlled, 1.71054295)"
   ]
  },
  {
   "cell_type": "code",
   "execution_count": null,
   "metadata": {},
   "outputs": [],
   "source": [
    "multiphenicsx.io.plot_vector_field(v, \"state velocity\", glyph_factor=3e-2)"
   ]
  },
  {
   "cell_type": "code",
   "execution_count": null,
   "metadata": {},
   "outputs": [],
   "source": [
    "multiphenicsx.io.plot_scalar_field(p, \"state pressure\")"
   ]
  },
  {
   "cell_type": "code",
   "execution_count": null,
   "metadata": {},
   "outputs": [],
   "source": [
    "multiphenicsx.io.plot_vector_field(u, \"control\", glyph_factor=1e-1)"
   ]
  },
  {
   "cell_type": "code",
   "execution_count": null,
   "metadata": {},
   "outputs": [],
   "source": [
    "multiphenicsx.io.plot_vector_field(l, \"lambda\", glyph_factor=1e-3)"
   ]
  },
  {
   "cell_type": "code",
   "execution_count": null,
   "metadata": {},
   "outputs": [],
   "source": [
    "multiphenicsx.io.plot_vector_field(z, \"adjoint velocity\", glyph_factor=1)"
   ]
  },
  {
   "cell_type": "code",
   "execution_count": null,
   "metadata": {},
   "outputs": [],
   "source": [
    "multiphenicsx.io.plot_scalar_field(b, \"adjoint pressure\")"
   ]
  }
 ],
 "metadata": {
  "kernelspec": {
   "display_name": "Python 3 (ipykernel)",
   "language": "python",
   "name": "python3"
  },
  "language_info": {
   "codemirror_mode": {
    "name": "ipython"
   },
   "file_extension": ".py",
   "mimetype": "text/x-python",
   "name": "python",
   "nbconvert_exporter": "python"
  }
 },
 "nbformat": 4,
 "nbformat_minor": 2
}
