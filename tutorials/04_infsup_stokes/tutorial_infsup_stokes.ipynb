{
 "cells": [
  {
   "cell_type": "markdown",
   "metadata": {},
   "source": [
    "# Tutorial 04: computation of the inf-sup constant for a Stokes problem discretization\n",
    "\n",
    "In this tutorial we compare the computation of the inf-sup constant of a Stokes problem using standard assembly with mixed function spaces and block assembly."
   ]
  },
  {
   "cell_type": "code",
   "execution_count": null,
   "metadata": {},
   "outputs": [],
   "source": [
    "import typing"
   ]
  },
  {
   "cell_type": "code",
   "execution_count": null,
   "metadata": {},
   "outputs": [],
   "source": [
    "import dolfinx.cpp\n",
    "import dolfinx.fem\n",
    "import dolfinx.mesh\n",
    "import mpi4py\n",
    "import numpy as np\n",
    "import numpy.typing as npt\n",
    "import petsc4py\n",
    "import slepc4py\n",
    "import ufl"
   ]
  },
  {
   "cell_type": "code",
   "execution_count": null,
   "metadata": {},
   "outputs": [],
   "source": [
    "import multiphenicsx.fem\n",
    "import multiphenicsx.io"
   ]
  },
  {
   "cell_type": "markdown",
   "metadata": {},
   "source": [
    "### Mesh"
   ]
  },
  {
   "cell_type": "code",
   "execution_count": null,
   "metadata": {},
   "outputs": [],
   "source": [
    "mesh = dolfinx.mesh.create_unit_square(mpi4py.MPI.COMM_WORLD, 32, 32)\n",
    "\n",
    "\n",
    "def wall(x: npt.NDArray[np.float64]) -> npt.NDArray[bool]:\n",
    "    \"\"\"Determine the position of the wall.\"\"\"\n",
    "    return np.logical_or(x[1] < 0 + np.finfo(float).eps, x[1] > 1 - np.finfo(float).eps)\n",
    "\n",
    "\n",
    "boundary_facets = dolfinx.mesh.locate_entities_boundary(mesh, mesh.topology.dim - 1, wall)"
   ]
  },
  {
   "cell_type": "code",
   "execution_count": null,
   "metadata": {},
   "outputs": [],
   "source": [
    "multiphenicsx.io.plot_mesh(mesh)"
   ]
  },
  {
   "cell_type": "markdown",
   "metadata": {},
   "source": [
    "### Function spaces"
   ]
  },
  {
   "cell_type": "code",
   "execution_count": null,
   "metadata": {},
   "outputs": [],
   "source": [
    "V_element = ufl.VectorElement(\"Lagrange\", mesh.ufl_cell(), 2)\n",
    "Q_element = ufl.FiniteElement(\"Lagrange\", mesh.ufl_cell(), 1)"
   ]
  },
  {
   "cell_type": "markdown",
   "metadata": {},
   "source": [
    "### Auxiliary function for eigenvector normalization"
   ]
  },
  {
   "cell_type": "code",
   "execution_count": null,
   "metadata": {},
   "outputs": [],
   "source": [
    "def normalize(u1: dolfinx.fem.Function, u2: dolfinx.fem.Function, p: dolfinx.fem.Function) -> None:\n",
    "    \"\"\"Normalize an eigenvector.\"\"\"\n",
    "    u1_norm = np.sqrt(mesh.comm.allreduce(\n",
    "        dolfinx.fem.assemble_scalar(ufl.inner(ufl.grad(u1), ufl.grad(u1)) * ufl.dx), op=mpi4py.MPI.SUM))\n",
    "    u1.vector.scale(1. / u1_norm)\n",
    "    u1.vector.ghostUpdate(addv=petsc4py.PETSc.InsertMode.INSERT, mode=petsc4py.PETSc.ScatterMode.FORWARD)\n",
    "    u2_norm = np.sqrt(mesh.comm.allreduce(\n",
    "        dolfinx.fem.assemble_scalar(ufl.inner(ufl.grad(u2), ufl.grad(u2)) * ufl.dx), op=mpi4py.MPI.SUM))\n",
    "    u2.vector.scale(1. / u2_norm)\n",
    "    u2.vector.ghostUpdate(addv=petsc4py.PETSc.InsertMode.INSERT, mode=petsc4py.PETSc.ScatterMode.FORWARD)\n",
    "    p_norm = np.sqrt(mesh.comm.allreduce(\n",
    "        dolfinx.fem.assemble_scalar(p * p * ufl.dx), op=mpi4py.MPI.SUM))\n",
    "    p.vector.scale(1. / p_norm)\n",
    "    p.vector.ghostUpdate(addv=petsc4py.PETSc.InsertMode.INSERT, mode=petsc4py.PETSc.ScatterMode.FORWARD)"
   ]
  },
  {
   "cell_type": "markdown",
   "metadata": {},
   "source": [
    "### Standard FEniCSx formulation using a mixed function space"
   ]
  },
  {
   "cell_type": "code",
   "execution_count": null,
   "metadata": {},
   "outputs": [],
   "source": [
    "def run_monolithic() -> typing.Tuple[np.float64, dolfinx.fem.Function]:\n",
    "    \"\"\"Run standard FEniCSx formulation using a mixed function space.\"\"\"\n",
    "    # Function spaces\n",
    "    W_element = ufl.MixedElement(V_element, Q_element)\n",
    "    W = dolfinx.fem.FunctionSpace(mesh, W_element)\n",
    "\n",
    "    # Test and trial functions: monolithic\n",
    "    vq = ufl.TestFunction(W)\n",
    "    (v, q) = ufl.split(vq)\n",
    "    up = ufl.TrialFunction(W)\n",
    "    (u, p) = ufl.split(up)\n",
    "\n",
    "    # Variational forms\n",
    "    lhs = ufl.inner(ufl.grad(u), ufl.grad(v)) * ufl.dx - ufl.div(v) * p * ufl.dx - ufl.div(u) * q * ufl.dx\n",
    "    rhs = - ufl.inner(p, q) * ufl.dx\n",
    "\n",
    "    # Define restriction for DOFs associated to homogenous Dirichlet boundary conditions\n",
    "    dofs_W = np.arange(0, W.dofmap.index_map.size_local + W.dofmap.index_map.num_ghosts)\n",
    "    bdofs_V = dolfinx.fem.locate_dofs_topological(W.sub(0), mesh.topology.dim - 1, boundary_facets)\n",
    "    bdofs_V = dolfinx.fem.locate_dofs_topological(\n",
    "        (W.sub(0), W.sub(0).collapse()), mesh.topology.dim - 1, boundary_facets)[0]\n",
    "    restriction = multiphenicsx.fem.DofMapRestriction(W.dofmap, np.setdiff1d(dofs_W, bdofs_V))\n",
    "\n",
    "    # Assemble lhs and rhs matrices\n",
    "    A = multiphenicsx.fem.assemble_matrix(lhs, restriction=(restriction, restriction))\n",
    "    A.assemble()\n",
    "    B = multiphenicsx.fem.assemble_matrix(rhs, restriction=(restriction, restriction))\n",
    "    B.assemble()\n",
    "\n",
    "    # Solve\n",
    "    eps = slepc4py.SLEPc.EPS().create(mesh.comm)\n",
    "    eps.setOperators(A, B)\n",
    "    eps.setProblemType(slepc4py.SLEPc.EPS.ProblemType.GNHEP)\n",
    "    eps.setDimensions(1, petsc4py.PETSc.DECIDE, petsc4py.PETSc.DECIDE)\n",
    "    eps.setWhichEigenpairs(slepc4py.SLEPc.EPS.Which.TARGET_REAL)\n",
    "    eps.setTarget(1.e-5)\n",
    "    eps.getST().setType(slepc4py.SLEPc.ST.Type.SINVERT)\n",
    "    eps.getST().getKSP().setType(\"preonly\")\n",
    "    eps.getST().getKSP().getPC().setType(\"lu\")\n",
    "    eps.getST().getKSP().getPC().setFactorSolverType(\"mumps\")\n",
    "    eps.solve()\n",
    "    assert eps.getConverged() >= 1\n",
    "\n",
    "    # Extract leading eigenvalue and eigenvector\n",
    "    vr = dolfinx.cpp.fem.petsc.create_vector_block([(restriction.index_map, restriction.index_map_bs)])\n",
    "    vi = dolfinx.cpp.fem.petsc.create_vector_block([(restriction.index_map, restriction.index_map_bs)])\n",
    "    eigv = eps.getEigenpair(0, vr, vi)\n",
    "    r, i = eigv.real, eigv.imag\n",
    "    assert abs(i) < 1.e-10\n",
    "    assert r > 0., \"r = \" + str(r) + \" is not positive\"\n",
    "    print(\"Inf-sup constant (monolithic): \", np.sqrt(r))\n",
    "\n",
    "    # Transform eigenvector into eigenfunction\n",
    "    r_fun = dolfinx.fem.Function(W)\n",
    "    vr.ghostUpdate(addv=petsc4py.PETSc.InsertMode.INSERT, mode=petsc4py.PETSc.ScatterMode.FORWARD)\n",
    "    with r_fun.vector.localForm() as r_fun_local, \\\n",
    "            multiphenicsx.fem.VecSubVectorWrapper(vr, W.dofmap, restriction) as vr_wrapper:\n",
    "        r_fun_local[:] = vr_wrapper\n",
    "    (u_fun_1, u_fun_2) = (r_fun.sub(0).sub(0).collapse(), r_fun.sub(0).sub(1).collapse())\n",
    "    p_fun = r_fun.sub(1).collapse()\n",
    "    normalize(u_fun_1, u_fun_2, p_fun)\n",
    "\n",
    "    return (r, u_fun_1, u_fun_2, p_fun)"
   ]
  },
  {
   "cell_type": "code",
   "execution_count": null,
   "metadata": {},
   "outputs": [],
   "source": [
    "(eig_m, u_fun_1_m, u_fun_2_m, p_fun_m) = run_monolithic()"
   ]
  },
  {
   "cell_type": "code",
   "execution_count": null,
   "metadata": {},
   "outputs": [],
   "source": [
    "multiphenicsx.io.plot_scalar_field(u_fun_1_m, \"u1\")"
   ]
  },
  {
   "cell_type": "code",
   "execution_count": null,
   "metadata": {},
   "outputs": [],
   "source": [
    "multiphenicsx.io.plot_scalar_field(u_fun_2_m, \"u2\")"
   ]
  },
  {
   "cell_type": "code",
   "execution_count": null,
   "metadata": {},
   "outputs": [],
   "source": [
    "multiphenicsx.io.plot_scalar_field(p_fun_m, \"p\")"
   ]
  },
  {
   "cell_type": "markdown",
   "metadata": {},
   "source": [
    "### Block FEniCSx formulation using two independent function spaces"
   ]
  },
  {
   "cell_type": "code",
   "execution_count": null,
   "metadata": {},
   "outputs": [],
   "source": [
    "def run_block() -> typing.Tuple[np.float64, dolfinx.fem.Function]:\n",
    "    \"\"\"Run block FEniCSx formulation using two independent function spaces.\"\"\"\n",
    "    # Function spaces\n",
    "    V = dolfinx.fem.FunctionSpace(mesh, V_element)\n",
    "    Q = dolfinx.fem.FunctionSpace(mesh, Q_element)\n",
    "\n",
    "    # Test and trial functions\n",
    "    (v, q) = (ufl.TestFunction(V), ufl.TestFunction(Q))\n",
    "    (u, p) = (ufl.TrialFunction(V), ufl.TrialFunction(Q))\n",
    "\n",
    "    # Variational forms\n",
    "    lhs = [[ufl.inner(ufl.grad(u), ufl.grad(v)) * ufl.dx, - ufl.div(v) * p * ufl.dx],\n",
    "           [- ufl.div(u) * q * ufl.dx, None]]\n",
    "    rhs = [[None, None],\n",
    "           [None, - p * q * ufl.dx]]\n",
    "    rhs[0][0] = dolfinx.fem.Constant(mesh, 0.) * ufl.inner(u, v) * ufl.dx\n",
    "\n",
    "    # Define restriction for DOFs associated to homogenous Dirichlet boundary conditions\n",
    "    dofs_V = np.arange(0, V.dofmap.index_map.size_local + V.dofmap.index_map.num_ghosts)\n",
    "    bdofs_V = dolfinx.fem.locate_dofs_topological(V, mesh.topology.dim - 1, boundary_facets)\n",
    "    dofs_Q = np.arange(0, Q.dofmap.index_map.size_local + Q.dofmap.index_map.num_ghosts)\n",
    "    restriction_V = multiphenicsx.fem.DofMapRestriction(V.dofmap, np.setdiff1d(dofs_V, bdofs_V))\n",
    "    restriction_Q = multiphenicsx.fem.DofMapRestriction(Q.dofmap, dofs_Q)\n",
    "    restriction = [restriction_V, restriction_Q]\n",
    "\n",
    "    # Assemble lhs and rhs matrices\n",
    "    A = multiphenicsx.fem.assemble_matrix_block(lhs, bcs=[], restriction=(restriction, restriction))\n",
    "    A.assemble()\n",
    "    B = multiphenicsx.fem.assemble_matrix_block(rhs, bcs=[], restriction=(restriction, restriction))\n",
    "    B.assemble()\n",
    "\n",
    "    # Solve\n",
    "    eps = slepc4py.SLEPc.EPS().create(mesh.comm)\n",
    "    eps.setOperators(A, B)\n",
    "    eps.setProblemType(slepc4py.SLEPc.EPS.ProblemType.GNHEP)\n",
    "    eps.setDimensions(1, petsc4py.PETSc.DECIDE, petsc4py.PETSc.DECIDE)\n",
    "    eps.setWhichEigenpairs(slepc4py.SLEPc.EPS.Which.TARGET_REAL)\n",
    "    eps.setTarget(1.e-5)\n",
    "    eps.getST().setType(slepc4py.SLEPc.ST.Type.SINVERT)\n",
    "    eps.getST().getKSP().setType(\"preonly\")\n",
    "    eps.getST().getKSP().getPC().setType(\"lu\")\n",
    "    eps.getST().getKSP().getPC().setFactorSolverType(\"mumps\")\n",
    "    eps.solve()\n",
    "    assert eps.getConverged() >= 1\n",
    "\n",
    "    # Extract leading eigenvalue and eigenvector\n",
    "    vr = dolfinx.cpp.fem.petsc.create_vector_block(\n",
    "        [(restriction_.index_map, restriction_.index_map_bs) for restriction_ in restriction])\n",
    "    vi = dolfinx.cpp.fem.petsc.create_vector_block(\n",
    "        [(restriction_.index_map, restriction_.index_map_bs) for restriction_ in restriction])\n",
    "    eigv = eps.getEigenpair(0, vr, vi)\n",
    "    r, i = eigv.real, eigv.imag\n",
    "    assert abs(i) < 1.e-10\n",
    "    assert r > 0., \"r = \" + str(r) + \" is not positive\"\n",
    "    print(\"Inf-sup constant (block): \", np.sqrt(r))\n",
    "\n",
    "    # Transform eigenvector into eigenfunction\n",
    "    (u_fun, p_fun) = (dolfinx.fem.Function(V), dolfinx.fem.Function(Q))\n",
    "    vr.ghostUpdate(addv=petsc4py.PETSc.InsertMode.INSERT, mode=petsc4py.PETSc.ScatterMode.FORWARD)\n",
    "    with multiphenicsx.fem.BlockVecSubVectorWrapper(vr, [V.dofmap, Q.dofmap], restriction) as vr_wrapper:\n",
    "        for vr_wrapper_local, component in zip(vr_wrapper, (u_fun, p_fun)):\n",
    "            with component.vector.localForm() as component_local:\n",
    "                component_local[:] = vr_wrapper_local\n",
    "    (u_fun_1, u_fun_2) = (u_fun.sub(0).collapse(), u_fun.sub(1).collapse())\n",
    "    normalize(u_fun_1, u_fun_2, p_fun)\n",
    "\n",
    "    return (r, u_fun_1, u_fun_2, p_fun)"
   ]
  },
  {
   "cell_type": "code",
   "execution_count": null,
   "metadata": {},
   "outputs": [],
   "source": [
    "(eig_b, u_fun_1_b, u_fun_2_b, p_fun_b) = run_block()"
   ]
  },
  {
   "cell_type": "code",
   "execution_count": null,
   "metadata": {},
   "outputs": [],
   "source": [
    "multiphenicsx.io.plot_scalar_field(u_fun_1_b, \"u1\")"
   ]
  },
  {
   "cell_type": "code",
   "execution_count": null,
   "metadata": {},
   "outputs": [],
   "source": [
    "multiphenicsx.io.plot_scalar_field(u_fun_2_b, \"u2\")"
   ]
  },
  {
   "cell_type": "code",
   "execution_count": null,
   "metadata": {},
   "outputs": [],
   "source": [
    "multiphenicsx.io.plot_scalar_field(p_fun_b, \"p\")"
   ]
  },
  {
   "cell_type": "markdown",
   "metadata": {},
   "source": [
    "### Error computation between standard and block formulations"
   ]
  },
  {
   "cell_type": "code",
   "execution_count": null,
   "metadata": {},
   "outputs": [],
   "source": [
    "def run_error(\n",
    "    eig_m: np.float64, eig_b: np.float64, u_fun_1_m: dolfinx.fem.Function, u_fun_1_b: dolfinx.fem.Function,\n",
    "    u_fun_2_m: dolfinx.fem.Function, u_fun_2_b: dolfinx.fem.Function, p_fun_m: dolfinx.fem.Function,\n",
    "    p_fun_b: dolfinx.fem.Function\n",
    ") -> None:\n",
    "    \"\"\"Compute errors between the mixed and block cases.\"\"\"\n",
    "    err_inf_sup = np.abs(np.sqrt(eig_b) - np.sqrt(eig_m)) / np.sqrt(eig_m)\n",
    "    print(\"Relative error for inf-sup constant equal to\", err_inf_sup)\n",
    "    assert np.isclose(err_inf_sup, 0., atol=1.e-8)\n",
    "    # Even after normalization, eigenfunctions may have different signs. Try both and assume that the correct\n",
    "    # error computation is the one for which the error is minimum\n",
    "    err_1_plus = u_fun_1_b + u_fun_1_m\n",
    "    err_2_plus = u_fun_2_b + u_fun_2_m\n",
    "    err_p_plus = p_fun_b + p_fun_m\n",
    "    err_1_minus = u_fun_1_b - u_fun_1_m\n",
    "    err_2_minus = u_fun_2_b - u_fun_2_m\n",
    "    err_p_minus = p_fun_b - p_fun_m\n",
    "    err_1_plus_norm = np.sqrt(mesh.comm.allreduce(\n",
    "        dolfinx.fem.assemble_scalar(ufl.inner(ufl.grad(err_1_plus), ufl.grad(err_1_plus)) * ufl.dx),\n",
    "        op=mpi4py.MPI.SUM))\n",
    "    err_2_plus_norm = np.sqrt(mesh.comm.allreduce(\n",
    "        dolfinx.fem.assemble_scalar(ufl.inner(ufl.grad(err_2_plus), ufl.grad(err_2_plus)) * ufl.dx),\n",
    "        op=mpi4py.MPI.SUM))\n",
    "    err_p_plus_norm = np.sqrt(mesh.comm.allreduce(\n",
    "        dolfinx.fem.assemble_scalar(err_p_plus * err_p_plus * ufl.dx), op=mpi4py.MPI.SUM))\n",
    "    err_1_minus_norm = np.sqrt(mesh.comm.allreduce(\n",
    "        dolfinx.fem.assemble_scalar(ufl.inner(ufl.grad(err_1_minus), ufl.grad(err_1_minus)) * ufl.dx),\n",
    "        op=mpi4py.MPI.SUM))\n",
    "    err_2_minus_norm = np.sqrt(mesh.comm.allreduce(\n",
    "        dolfinx.fem.assemble_scalar(ufl.inner(ufl.grad(err_2_minus), ufl.grad(err_2_minus)) * ufl.dx),\n",
    "        op=mpi4py.MPI.SUM))\n",
    "    err_p_minus_norm = np.sqrt(mesh.comm.allreduce(\n",
    "        dolfinx.fem.assemble_scalar(err_p_minus * err_p_minus * ufl.dx), op=mpi4py.MPI.SUM))\n",
    "    u_fun_1_norm = np.sqrt(mesh.comm.allreduce(\n",
    "        dolfinx.fem.assemble_scalar(ufl.inner(ufl.grad(u_fun_1_m), ufl.grad(u_fun_1_m)) * ufl.dx),\n",
    "        op=mpi4py.MPI.SUM))\n",
    "    u_fun_2_norm = np.sqrt(mesh.comm.allreduce(\n",
    "        dolfinx.fem.assemble_scalar(ufl.inner(ufl.grad(u_fun_2_m), ufl.grad(u_fun_2_m)) * ufl.dx),\n",
    "        op=mpi4py.MPI.SUM))\n",
    "    p_fun_norm = np.sqrt(mesh.comm.allreduce(\n",
    "        dolfinx.fem.assemble_scalar(p_fun_m * p_fun_m * ufl.dx), op=mpi4py.MPI.SUM))\n",
    "\n",
    "    def select_error(\n",
    "        err_plus: dolfinx.fem.Function, err_plus_norm: np.float64,\n",
    "        err_minus: dolfinx.fem.Function, err_minus_norm: np.float64,\n",
    "        vec_norm: np.float64, component_name: str\n",
    "    ) -> None:\n",
    "        \"\"\"Pick a +/- sign in the linear combination which defines the error.\"\"\"\n",
    "        ratio_plus = err_plus_norm / vec_norm\n",
    "        ratio_minus = err_minus_norm / vec_norm\n",
    "        if ratio_minus < ratio_plus:\n",
    "            print(\"Relative error for \", component_name, \"component of eigenvector equal to\",\n",
    "                  ratio_minus, \"(the one with opposite sign was\", ratio_plus, \")\")\n",
    "            assert np.isclose(ratio_minus, 0., atol=1.e-6)\n",
    "        else:\n",
    "            print(\"Relative error for\", component_name, \"component of eigenvector equal to\",\n",
    "                  ratio_plus, \"(the one with opposite sign was\", ratio_minus, \")\")\n",
    "            assert np.isclose(ratio_plus, 0., atol=1.e-6)\n",
    "\n",
    "    select_error(err_1_plus, err_1_plus_norm, err_1_minus, err_1_minus_norm, u_fun_1_norm, \"velocity 1\")\n",
    "    select_error(err_2_plus, err_2_plus_norm, err_2_minus, err_2_minus_norm, u_fun_2_norm, \"velocity 2\")\n",
    "    select_error(err_p_plus, err_p_plus_norm, err_p_minus, err_p_minus_norm, p_fun_norm, \"pressure\")"
   ]
  },
  {
   "cell_type": "code",
   "execution_count": null,
   "metadata": {},
   "outputs": [],
   "source": [
    "run_error(eig_m, eig_b, u_fun_1_m, u_fun_1_b, u_fun_2_m, u_fun_2_b, p_fun_m, p_fun_b)"
   ]
  }
 ],
 "metadata": {
  "kernelspec": {
   "display_name": "Python 3 (ipykernel)",
   "language": "python",
   "name": "python3"
  },
  "language_info": {
   "codemirror_mode": {
    "name": "ipython"
   },
   "file_extension": ".py",
   "mimetype": "text/x-python",
   "name": "python",
   "nbconvert_exporter": "python"
  }
 },
 "nbformat": 4,
 "nbformat_minor": 2
}
